{
 "cells": [
  {
   "cell_type": "code",
   "execution_count": 1,
   "id": "76e0348f-7896-4ea4-8ff3-a4201430c812",
   "metadata": {
    "tags": []
   },
   "outputs": [],
   "source": [
    "%load_ext autoreload"
   ]
  },
  {
   "cell_type": "code",
   "execution_count": 4,
   "id": "f6c58e79-73d7-4dc7-ab36-ba51922a8ce7",
   "metadata": {
    "tags": []
   },
   "outputs": [],
   "source": [
    "import numpy as np\n",
    "import matplotlib.pyplot as plt\n",
    "import AFAI_parallelGPU as afai_parallel\n",
    "import torch"
   ]
  },
  {
   "cell_type": "code",
   "execution_count": 5,
   "id": "faf00b18-53c4-4be8-842d-e634f528f9af",
   "metadata": {
    "tags": []
   },
   "outputs": [],
   "source": [
    "%autoreload 2"
   ]
  },
  {
   "cell_type": "code",
   "execution_count": 6,
   "id": "fd0d3a41-cde8-48c3-8949-5ad32767b747",
   "metadata": {
    "tags": []
   },
   "outputs": [],
   "source": [
    "period = 2\n",
    "hopping1 = - np.pi/(2)\n",
    "hopping2 = - 3 * np.pi/(2)\n",
    "hopping3 = - 5 * np.pi/(2)"
   ]
  },
  {
   "cell_type": "code",
   "execution_count": 7,
   "id": "56672dd5-a995-42e3-9537-8218e21d6146",
   "metadata": {
    "tags": []
   },
   "outputs": [],
   "source": [
    "model30 = afai_parallel.tb_floquet_tbc_cuda(period, 1, hopping3, ny=30, nx=30, device='cuda:0')\n",
    "model40 = afai_parallel.tb_floquet_tbc_cuda(period, 1, hopping3, ny=40, nx=40, device='cuda:0')\n",
    "model50 = afai_parallel.tb_floquet_tbc_cuda(period, 1, hopping3, ny=50, nx=50, device='cuda:0')"
   ]
  },
  {
   "cell_type": "code",
   "execution_count": 8,
   "id": "e962662b-1b9a-48b2-9b8e-dc48600058d7",
   "metadata": {
    "tags": []
   },
   "outputs": [],
   "source": [
    "model30_1 = afai_parallel.tb_floquet_tbc_cuda(period, 1, hopping1, ny=30, nx=30, device='cuda:0')\n",
    "model30_2 = afai_parallel.tb_floquet_tbc_cuda(period, 1, hopping2, ny=30, nx=30, device='cuda:0')"
   ]
  },
  {
   "cell_type": "code",
   "execution_count": 14,
   "id": "778ee3a2-bfdd-4407-822e-40dfeca59692",
   "metadata": {
    "tags": []
   },
   "outputs": [],
   "source": [
    "chern_marker1 = model50.chern_marker_averg(epsilonT = 0, kappa =0.01, steps_per_segment=100, vdT=13, num=10)"
   ]
  },
  {
   "cell_type": "code",
   "execution_count": null,
   "id": "36ab5f81-7295-49bb-a1e6-b1cbc11b1511",
   "metadata": {
    "tags": []
   },
   "outputs": [
    {
     "name": "stdout",
     "output_type": "stream",
     "text": [
      "1.0\n"
     ]
    }
   ],
   "source": [
    "print(chern_marker1)"
   ]
  },
  {
   "cell_type": "code",
   "execution_count": null,
   "id": "3703b6a9-53fc-487a-8a41-aa68b3508042",
   "metadata": {
    "tags": []
   },
   "outputs": [],
   "source": [
    "chern_marker2 = model50.chern_marker_averg(epsilonT = 0, kappa =0.01, steps_per_segment=100, vdT=18, num=10)"
   ]
  },
  {
   "cell_type": "code",
   "execution_count": null,
   "id": "7d7f02ba-d956-4fde-8160-fc38d3c27cb0",
   "metadata": {
    "tags": []
   },
   "outputs": [],
   "source": [
    "print(chern_marker2)"
   ]
  },
  {
   "cell_type": "code",
   "execution_count": null,
   "id": "903acf7f-c60b-4ed1-ae89-bfe491376935",
   "metadata": {
    "tags": []
   },
   "outputs": [],
   "source": [
    "chern_marker3 = model50.chern_marker_averg(epsilonT = 0, kappa =0.01, steps_per_segment=100, vdT=19, num=10)"
   ]
  },
  {
   "cell_type": "code",
   "execution_count": null,
   "id": "8030a7f6-0aca-4ade-9fc7-e801dc6dab5f",
   "metadata": {
    "tags": []
   },
   "outputs": [],
   "source": [
    "print(chern_marker3)"
   ]
  },
  {
   "cell_type": "code",
   "execution_count": null,
   "id": "6341499e-f291-43a1-a3ae-bd4193de280d",
   "metadata": {
    "tags": []
   },
   "outputs": [],
   "source": [
    "chern_marker4 = model50.chern_marker_averg(epsilonT = 0, kappa =0.01, steps_per_segment=100, vdT=20, num=10)"
   ]
  },
  {
   "cell_type": "code",
   "execution_count": null,
   "id": "9fd4a3fd-9423-4c52-858e-7a0e36c36cf6",
   "metadata": {
    "tags": []
   },
   "outputs": [],
   "source": [
    "print(chern_marker4)"
   ]
  },
  {
   "cell_type": "code",
   "execution_count": null,
   "id": "d8657ae3-b56d-4fa4-9309-f7413f8c9297",
   "metadata": {
    "tags": []
   },
   "outputs": [],
   "source": [
    "chern_marker5 = model50.chern_marker_averg(epsilonT = 0, kappa =0.01, steps_per_segment=100, vdT=21, num=10)"
   ]
  },
  {
   "cell_type": "code",
   "execution_count": null,
   "id": "0aa2854f-f007-4148-97ad-13ce11ec0a02",
   "metadata": {
    "tags": []
   },
   "outputs": [],
   "source": [
    "print(chern_marker5)"
   ]
  },
  {
   "cell_type": "code",
   "execution_count": null,
   "id": "698d48ef-00d7-4294-b996-41b077be153f",
   "metadata": {},
   "outputs": [],
   "source": []
  }
 ],
 "metadata": {
  "kernelspec": {
   "display_name": "Python 3 (ipykernel)",
   "language": "python",
   "name": "python3"
  },
  "language_info": {
   "codemirror_mode": {
    "name": "ipython",
    "version": 3
   },
   "file_extension": ".py",
   "mimetype": "text/x-python",
   "name": "python",
   "nbconvert_exporter": "python",
   "pygments_lexer": "ipython3",
   "version": "3.8.10"
  }
 },
 "nbformat": 4,
 "nbformat_minor": 5
}
