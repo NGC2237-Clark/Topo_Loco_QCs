{
 "cells": [
  {
   "cell_type": "code",
   "execution_count": 1,
   "metadata": {},
   "outputs": [],
   "source": [
    "%load_ext autoreload"
   ]
  },
  {
   "cell_type": "code",
   "execution_count": 2,
   "metadata": {},
   "outputs": [],
   "source": [
    "import os\n",
    "import numpy as np\n",
    "import matplotlib.pyplot as plt\n",
    "import AFAI_library as afai\n",
    "import AFAI_library_torch as afai_cuda\n",
    "import AFAI_parallelGPU as afai_parallel\n",
    "import torch\n",
    "from concurrent.futures import ThreadPoolExecutor, as_completed\n",
    "# from mpl_toolkits.mplot3d import Axes3D\n",
    "os.environ['CUDA_LAUNCH_BLOCKING'] = '1'"
   ]
  },
  {
   "cell_type": "code",
   "execution_count": 3,
   "metadata": {},
   "outputs": [],
   "source": [
    "%autoreload 2"
   ]
  },
  {
   "cell_type": "code",
   "execution_count": 4,
   "metadata": {},
   "outputs": [],
   "source": [
    "period = 2\n",
    "hopping = - 3 * np.pi/(2* period)\n",
    "model = afai_cuda.tb_floquet_tbc_cuda(period, 1, hopping, 3,3)\n",
    "model_gpu = afai_parallel.tb_floquet_tbc_cuda(period, 1, hopping, 3,3)"
   ]
  },
  {
   "cell_type": "code",
   "execution_count": 37,
   "metadata": {},
   "outputs": [],
   "source": [
    "tx = torch.tensor([1,2,3], device='cuda:0')\n",
    "ty = torch.tensor([1,2,3], device='cuda:0')\n",
    "vd1 = 2\n",
    "vd2 = torch.tensor([1,2,3], device='cuda:0')"
   ]
  },
  {
   "cell_type": "code",
   "execution_count": 27,
   "metadata": {},
   "outputs": [
    {
     "name": "stdout",
     "output_type": "stream",
     "text": [
      "tensor([[[ 0.0000+0.0000j,  0.0000+0.0000j,  0.0000+0.0000j,  2.3562-0.0000j,\n",
      "           0.0000+0.0000j,  0.0000+0.0000j],\n",
      "         [ 0.0000+0.0000j,  0.0000+0.0000j,  0.0000+0.0000j,  0.0000+0.0000j,\n",
      "           1.2731-1.9827j,  0.0000+0.0000j],\n",
      "         [ 0.0000+0.0000j,  0.0000+0.0000j,  0.0000+0.0000j,  0.0000+0.0000j,\n",
      "           0.0000+0.0000j,  2.3562-0.0000j],\n",
      "         [ 2.3562+0.0000j,  0.0000+0.0000j,  0.0000+0.0000j,  0.0000+0.0000j,\n",
      "           0.0000+0.0000j,  0.0000+0.0000j],\n",
      "         [ 0.0000+0.0000j,  1.2731+1.9827j,  0.0000+0.0000j,  0.0000+0.0000j,\n",
      "           0.0000+0.0000j,  0.0000+0.0000j],\n",
      "         [ 0.0000+0.0000j,  0.0000+0.0000j,  2.3562+0.0000j,  0.0000+0.0000j,\n",
      "           0.0000+0.0000j,  0.0000+0.0000j]],\n",
      "\n",
      "        [[ 0.0000+0.0000j,  0.0000+0.0000j,  0.0000+0.0000j,  2.3562-0.0000j,\n",
      "           0.0000+0.0000j,  0.0000+0.0000j],\n",
      "         [ 0.0000+0.0000j,  0.0000+0.0000j,  0.0000+0.0000j,  0.0000+0.0000j,\n",
      "          -0.9805-2.1425j,  0.0000+0.0000j],\n",
      "         [ 0.0000+0.0000j,  0.0000+0.0000j,  0.0000+0.0000j,  0.0000+0.0000j,\n",
      "           0.0000+0.0000j,  2.3562-0.0000j],\n",
      "         [ 2.3562+0.0000j,  0.0000+0.0000j,  0.0000+0.0000j,  0.0000+0.0000j,\n",
      "           0.0000+0.0000j,  0.0000+0.0000j],\n",
      "         [ 0.0000+0.0000j, -0.9805+2.1425j,  0.0000+0.0000j,  0.0000+0.0000j,\n",
      "           0.0000+0.0000j,  0.0000+0.0000j],\n",
      "         [ 0.0000+0.0000j,  0.0000+0.0000j,  2.3562+0.0000j,  0.0000+0.0000j,\n",
      "           0.0000+0.0000j,  0.0000+0.0000j]],\n",
      "\n",
      "        [[ 0.0000+0.0000j,  0.0000+0.0000j,  0.0000+0.0000j,  2.3562-0.0000j,\n",
      "           0.0000+0.0000j,  0.0000+0.0000j],\n",
      "         [ 0.0000+0.0000j,  0.0000+0.0000j,  0.0000+0.0000j,  0.0000+0.0000j,\n",
      "          -2.3326-0.3325j,  0.0000+0.0000j],\n",
      "         [ 0.0000+0.0000j,  0.0000+0.0000j,  0.0000+0.0000j,  0.0000+0.0000j,\n",
      "           0.0000+0.0000j,  2.3562-0.0000j],\n",
      "         [ 2.3562+0.0000j,  0.0000+0.0000j,  0.0000+0.0000j,  0.0000+0.0000j,\n",
      "           0.0000+0.0000j,  0.0000+0.0000j],\n",
      "         [ 0.0000+0.0000j, -2.3326+0.3325j,  0.0000+0.0000j,  0.0000+0.0000j,\n",
      "           0.0000+0.0000j,  0.0000+0.0000j],\n",
      "         [ 0.0000+0.0000j,  0.0000+0.0000j,  2.3562+0.0000j,  0.0000+0.0000j,\n",
      "           0.0000+0.0000j,  0.0000+0.0000j]]], device='cuda:0',\n",
      "       dtype=torch.complex128)\n"
     ]
    }
   ],
   "source": [
    "H1 = model_gpu.Hamiltonian_tbc1(ty, tbc='y')\n",
    "print(H1)"
   ]
  },
  {
   "cell_type": "code",
   "execution_count": 28,
   "metadata": {},
   "outputs": [
    {
     "name": "stdout",
     "output_type": "stream",
     "text": [
      "tensor([[[0.0000+0.j, 0.0000+0.j, 0.0000+0.j, 0.0000+0.j, 0.0000+0.j, 0.0000+0.j],\n",
      "         [0.0000+0.j, 0.0000+0.j, 2.3562-0.j, 0.0000+0.j, 0.0000+0.j, 0.0000+0.j],\n",
      "         [0.0000+0.j, 2.3562+0.j, 0.0000+0.j, 0.0000+0.j, 0.0000+0.j, 0.0000+0.j],\n",
      "         [0.0000+0.j, 0.0000+0.j, 0.0000+0.j, 0.0000+0.j, 2.3562-0.j, 0.0000+0.j],\n",
      "         [0.0000+0.j, 0.0000+0.j, 0.0000+0.j, 2.3562+0.j, 0.0000+0.j, 0.0000+0.j],\n",
      "         [0.0000+0.j, 0.0000+0.j, 0.0000+0.j, 0.0000+0.j, 0.0000+0.j, 0.0000+0.j]],\n",
      "\n",
      "        [[0.0000+0.j, 0.0000+0.j, 0.0000+0.j, 0.0000+0.j, 0.0000+0.j, 0.0000+0.j],\n",
      "         [0.0000+0.j, 0.0000+0.j, 2.3562-0.j, 0.0000+0.j, 0.0000+0.j, 0.0000+0.j],\n",
      "         [0.0000+0.j, 2.3562+0.j, 0.0000+0.j, 0.0000+0.j, 0.0000+0.j, 0.0000+0.j],\n",
      "         [0.0000+0.j, 0.0000+0.j, 0.0000+0.j, 0.0000+0.j, 2.3562-0.j, 0.0000+0.j],\n",
      "         [0.0000+0.j, 0.0000+0.j, 0.0000+0.j, 2.3562+0.j, 0.0000+0.j, 0.0000+0.j],\n",
      "         [0.0000+0.j, 0.0000+0.j, 0.0000+0.j, 0.0000+0.j, 0.0000+0.j, 0.0000+0.j]],\n",
      "\n",
      "        [[0.0000+0.j, 0.0000+0.j, 0.0000+0.j, 0.0000+0.j, 0.0000+0.j, 0.0000+0.j],\n",
      "         [0.0000+0.j, 0.0000+0.j, 2.3562-0.j, 0.0000+0.j, 0.0000+0.j, 0.0000+0.j],\n",
      "         [0.0000+0.j, 2.3562+0.j, 0.0000+0.j, 0.0000+0.j, 0.0000+0.j, 0.0000+0.j],\n",
      "         [0.0000+0.j, 0.0000+0.j, 0.0000+0.j, 0.0000+0.j, 2.3562-0.j, 0.0000+0.j],\n",
      "         [0.0000+0.j, 0.0000+0.j, 0.0000+0.j, 2.3562+0.j, 0.0000+0.j, 0.0000+0.j],\n",
      "         [0.0000+0.j, 0.0000+0.j, 0.0000+0.j, 0.0000+0.j, 0.0000+0.j, 0.0000+0.j]]],\n",
      "       device='cuda:0', dtype=torch.complex128)\n"
     ]
    }
   ],
   "source": [
    "H2 = model_gpu.Hamiltonian_tbc2(tx, tbc='xy')\n",
    "print(H2)"
   ]
  },
  {
   "cell_type": "code",
   "execution_count": 29,
   "metadata": {},
   "outputs": [
    {
     "name": "stdout",
     "output_type": "stream",
     "text": [
      "tensor([[[0.0000+0.0000j, 0.0000+0.0000j, 0.0000+0.0000j, 1.2731-1.9827j,\n",
      "          0.0000+0.0000j, 0.0000+0.0000j],\n",
      "         [0.0000+0.0000j, 0.0000+0.0000j, 0.0000+0.0000j, 0.0000+0.0000j,\n",
      "          2.3562-0.0000j, 0.0000+0.0000j],\n",
      "         [0.0000+0.0000j, 0.0000+0.0000j, 0.0000+0.0000j, 0.0000+0.0000j,\n",
      "          0.0000+0.0000j, 1.2731-1.9827j],\n",
      "         [1.2731+1.9827j, 0.0000+0.0000j, 0.0000+0.0000j, 0.0000+0.0000j,\n",
      "          0.0000+0.0000j, 0.0000+0.0000j],\n",
      "         [0.0000+0.0000j, 2.3562+0.0000j, 0.0000+0.0000j, 0.0000+0.0000j,\n",
      "          0.0000+0.0000j, 0.0000+0.0000j],\n",
      "         [0.0000+0.0000j, 0.0000+0.0000j, 1.2731+1.9827j, 0.0000+0.0000j,\n",
      "          0.0000+0.0000j, 0.0000+0.0000j]]], device='cuda:0',\n",
      "       dtype=torch.complex128)\n"
     ]
    }
   ],
   "source": [
    "H3 = model_gpu.Hamiltonian_tbc3(1, tbc='y')\n",
    "print(H3)"
   ]
  },
  {
   "cell_type": "code",
   "execution_count": 59,
   "metadata": {},
   "outputs": [
    {
     "name": "stdout",
     "output_type": "stream",
     "text": [
      "torch.Size([9, 9])\n"
     ]
    }
   ],
   "source": [
    "H4 = model_gpu.Hamiltonian_tbc4(1, tbc='xy')\n",
    "print(H4.shape)"
   ]
  },
  {
   "cell_type": "code",
   "execution_count": 45,
   "metadata": {},
   "outputs": [
    {
     "name": "stdout",
     "output_type": "stream",
     "text": [
      "-1.0 0.26625505089759827\n"
     ]
    },
    {
     "data": {
      "image/png": "[encoded data removed]",
      "text/plain": [
       "<Figure size 800x600 with 2 Axes>"
      ]
     },
     "metadata": {},
     "output_type": "display_data"
    }
   ],
   "source": [
    "H_ap = model_gpu.aperiodic_Honsite(vd2, contourplot=True)\n",
    "# print(H_ap)"
   ]
  },
  {
   "cell_type": "code",
   "execution_count": 54,
   "metadata": {},
   "outputs": [
    {
     "name": "stdout",
     "output_type": "stream",
     "text": [
      "torch.Size([1, 9, 9])\n"
     ]
    }
   ],
   "source": [
    "H_dis = model_gpu.Hamiltonian_disorder(vd1, contourplot=False)\n",
    "print(H_dis.shape)"
   ]
  },
  {
   "cell_type": "code",
   "execution_count": 58,
   "metadata": {},
   "outputs": [
    {
     "name": "stdout",
     "output_type": "stream",
     "text": [
      "torch.Size([3, 9, 9])\n",
      "tensor([[[ 0.7145+0.j,  0.0000+0.j,  0.0000+0.j,  0.0000+0.j,  0.0000+0.j,  0.0000+0.j,\n",
      "           0.0000+0.j,  0.0000+0.j,  0.0000+0.j],\n",
      "         [ 0.0000+0.j, -0.5191+0.j,  0.0000+0.j,  0.0000+0.j,  0.0000+0.j,  0.0000+0.j,\n",
      "           0.0000+0.j,  0.0000+0.j,  0.0000+0.j],\n",
      "         [ 0.0000+0.j,  0.0000+0.j,  0.7145+0.j,  0.0000+0.j,  0.0000+0.j,  0.0000+0.j,\n",
      "           0.0000+0.j,  0.0000+0.j,  0.0000+0.j],\n",
      "         [ 0.0000+0.j,  0.0000+0.j,  0.0000+0.j,  1.0517+0.j,  0.0000+0.j,  0.0000+0.j,\n",
      "           0.0000+0.j,  0.0000+0.j,  0.0000+0.j],\n",
      "         [ 0.0000+0.j,  0.0000+0.j,  0.0000+0.j,  0.0000+0.j, -1.7854+0.j,  0.0000+0.j,\n",
      "           0.0000+0.j,  0.0000+0.j,  0.0000+0.j],\n",
      "         [ 0.0000+0.j,  0.0000+0.j,  0.0000+0.j,  0.0000+0.j,  0.0000+0.j,  1.0517+0.j,\n",
      "           0.0000+0.j,  0.0000+0.j,  0.0000+0.j],\n",
      "         [ 0.0000+0.j,  0.0000+0.j,  0.0000+0.j,  0.0000+0.j,  0.0000+0.j,  0.0000+0.j,\n",
      "           0.7145+0.j,  0.0000+0.j,  0.0000+0.j],\n",
      "         [ 0.0000+0.j,  0.0000+0.j,  0.0000+0.j,  0.0000+0.j,  0.0000+0.j,  0.0000+0.j,\n",
      "           0.0000+0.j, -0.5191+0.j,  0.0000+0.j],\n",
      "         [ 0.0000+0.j,  0.0000+0.j,  0.0000+0.j,  0.0000+0.j,  0.0000+0.j,  0.0000+0.j,\n",
      "           0.0000+0.j,  0.0000+0.j,  0.7145+0.j]],\n",
      "\n",
      "        [[ 0.6436+0.j,  0.0000+0.j,  0.0000+0.j,  0.0000+0.j,  0.0000+0.j,  0.0000+0.j,\n",
      "           0.0000+0.j,  0.0000+0.j,  0.0000+0.j],\n",
      "         [ 0.0000+0.j, -0.2529+0.j,  0.0000+0.j,  0.0000+0.j,  0.0000+0.j,  0.0000+0.j,\n",
      "           0.0000+0.j,  0.0000+0.j,  0.0000+0.j],\n",
      "         [ 0.0000+0.j,  0.0000+0.j,  0.6436+0.j,  0.0000+0.j,  0.0000+0.j,  0.0000+0.j,\n",
      "           0.0000+0.j,  0.0000+0.j,  0.0000+0.j],\n",
      "         [ 0.0000+0.j,  0.0000+0.j,  0.0000+0.j,  1.3179+0.j,  0.0000+0.j,  0.0000+0.j,\n",
      "           0.0000+0.j,  0.0000+0.j,  0.0000+0.j],\n",
      "         [ 0.0000+0.j,  0.0000+0.j,  0.0000+0.j,  0.0000+0.j, -2.7854+0.j,  0.0000+0.j,\n",
      "           0.0000+0.j,  0.0000+0.j,  0.0000+0.j],\n",
      "         [ 0.0000+0.j,  0.0000+0.j,  0.0000+0.j,  0.0000+0.j,  0.0000+0.j,  1.3179+0.j,\n",
      "           0.0000+0.j,  0.0000+0.j,  0.0000+0.j],\n",
      "         [ 0.0000+0.j,  0.0000+0.j,  0.0000+0.j,  0.0000+0.j,  0.0000+0.j,  0.0000+0.j,\n",
      "           0.6436+0.j,  0.0000+0.j,  0.0000+0.j],\n",
      "         [ 0.0000+0.j,  0.0000+0.j,  0.0000+0.j,  0.0000+0.j,  0.0000+0.j,  0.0000+0.j,\n",
      "           0.0000+0.j, -0.2529+0.j,  0.0000+0.j],\n",
      "         [ 0.0000+0.j,  0.0000+0.j,  0.0000+0.j,  0.0000+0.j,  0.0000+0.j,  0.0000+0.j,\n",
      "           0.0000+0.j,  0.0000+0.j,  0.6436+0.j]],\n",
      "\n",
      "        [[ 0.5727+0.j,  0.0000+0.j,  0.0000+0.j,  0.0000+0.j,  0.0000+0.j,  0.0000+0.j,\n",
      "           0.0000+0.j,  0.0000+0.j,  0.0000+0.j],\n",
      "         [ 0.0000+0.j,  0.0134+0.j,  0.0000+0.j,  0.0000+0.j,  0.0000+0.j,  0.0000+0.j,\n",
      "           0.0000+0.j,  0.0000+0.j,  0.0000+0.j],\n",
      "         [ 0.0000+0.j,  0.0000+0.j,  0.5727+0.j,  0.0000+0.j,  0.0000+0.j,  0.0000+0.j,\n",
      "           0.0000+0.j,  0.0000+0.j,  0.0000+0.j],\n",
      "         [ 0.0000+0.j,  0.0000+0.j,  0.0000+0.j,  1.5842+0.j,  0.0000+0.j,  0.0000+0.j,\n",
      "           0.0000+0.j,  0.0000+0.j,  0.0000+0.j],\n",
      "         [ 0.0000+0.j,  0.0000+0.j,  0.0000+0.j,  0.0000+0.j, -3.7854+0.j,  0.0000+0.j,\n",
      "           0.0000+0.j,  0.0000+0.j,  0.0000+0.j],\n",
      "         [ 0.0000+0.j,  0.0000+0.j,  0.0000+0.j,  0.0000+0.j,  0.0000+0.j,  1.5842+0.j,\n",
      "           0.0000+0.j,  0.0000+0.j,  0.0000+0.j],\n",
      "         [ 0.0000+0.j,  0.0000+0.j,  0.0000+0.j,  0.0000+0.j,  0.0000+0.j,  0.0000+0.j,\n",
      "           0.5727+0.j,  0.0000+0.j,  0.0000+0.j],\n",
      "         [ 0.0000+0.j,  0.0000+0.j,  0.0000+0.j,  0.0000+0.j,  0.0000+0.j,  0.0000+0.j,\n",
      "           0.0000+0.j,  0.0134+0.j,  0.0000+0.j],\n",
      "         [ 0.0000+0.j,  0.0000+0.j,  0.0000+0.j,  0.0000+0.j,  0.0000+0.j,  0.0000+0.j,\n",
      "           0.0000+0.j,  0.0000+0.j,  0.5727+0.j]]], device='cuda:0',\n",
      "       dtype=torch.complex128)\n"
     ]
    },
    {
     "name": "stderr",
     "output_type": "stream",
     "text": [
      "c:\\Users\\11952\\OneDrive\\桌面\\Project_MPhi\\Preliminary_coding\\Topo_Loco_QCs\\Floquet\\AFAI_parallelGPU.py:1640: UserWarning: To copy construct from a tensor, it is recommended to use sourceTensor.clone().detach() or sourceTensor.clone().detach().requires_grad_(True), rather than torch.tensor(sourceTensor).\n",
      "  rotation_angle_tensor = torch.tensor(rotation_angle, device=self.device)  # Convert to tensor\n"
     ]
    }
   ],
   "source": [
    "H_dis = model_gpu.Hamiltonian_onsite(vd2, fully_disorder=False)\n",
    "print(H_dis.shape)\n",
    "print(H_dis)"
   ]
  },
  {
   "cell_type": "code",
   "execution_count": 9,
   "metadata": {},
   "outputs": [],
   "source": [
    "theta_x = np.array([0, np.pi/2, np.pi, 3*np.pi/2])\n",
    "theta_y = np.array([0, np.pi/2, np.pi, 3*np.pi/2, 2*np.pi])\n",
    "vd = np.array([1, 2], dtype=np.float64)\n",
    "vd1 = 2\n",
    "theta_y1 = np.array([1])\n",
    "t = np.array([1, 1.5, 2, 2.5, 3])\n",
    "t1 = np.array([1])\n",
    "# aa= model_gpu.Hamiltonian_tbc(1, 'xy', vd, np.pi/4, theta_x, theta_y)\n",
    "# print(aa.shape)"
   ]
  },
  {
   "cell_type": "code",
   "execution_count": 10,
   "metadata": {},
   "outputs": [
    {
     "name": "stdout",
     "output_type": "stream",
     "text": [
      "torch.Size([2, 4, 9, 9])\n"
     ]
    }
   ],
   "source": [
    "bb = model_gpu.time_evolution_operator1(t1, 100, 'xy', vd, np.pi/4, theta_x, theta_y1)\n",
    "print(bb.shape)"
   ]
  },
  {
   "cell_type": "code",
   "execution_count": null,
   "metadata": {},
   "outputs": [],
   "source": []
  }
 ],
 "metadata": {
  "kernelspec": {
   "display_name": "Python 3",
   "language": "python",
   "name": "python3"
  },
  "language_info": {
   "codemirror_mode": {
    "name": "ipython",
    "version": 3
   },
   "file_extension": ".py",
   "mimetype": "text/x-python",
   "name": "python",
   "nbconvert_exporter": "python",
   "pygments_lexer": "ipython3",
   "version": "3.8.10"
  }
 },
 "nbformat": 4,
 "nbformat_minor": 2
}
