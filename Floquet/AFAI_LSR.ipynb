{
 "cells": [
  {
   "cell_type": "code",
   "execution_count": 1,
   "metadata": {},
   "outputs": [],
   "source": [
    "%load_ext autoreload"
   ]
  },
  {
   "cell_type": "code",
   "execution_count": 2,
   "metadata": {},
   "outputs": [],
   "source": [
    "import os\n",
    "import numpy as np\n",
    "import matplotlib.pyplot as plt\n",
    "# import AFAI_library as afai\n",
    "# import AFAI_library_torch as afai_cuda\n",
    "import AFAI_parallelGPU as afai_parallel\n",
    "import torch\n",
    "from concurrent.futures import ThreadPoolExecutor, as_completed"
   ]
  },
  {
   "cell_type": "code",
   "execution_count": 3,
   "metadata": {},
   "outputs": [],
   "source": [
    "%autoreload 2"
   ]
  },
  {
   "cell_type": "code",
   "execution_count": 4,
   "metadata": {},
   "outputs": [],
   "source": [
    "period = 2\n",
    "hopping1 = - np.pi/(2)\n",
    "hopping2 = - 3 * np.pi/(2)\n",
    "hopping3 = - 5 * np.pi/(2)"
   ]
  },
  {
   "cell_type": "code",
   "execution_count": 5,
   "metadata": {},
   "outputs": [],
   "source": [
    "model06 = afai_parallel.tb_floquet_tbc_cuda(period, 1, hopping3, ny=6, nx=6, device='cuda:0')\n",
    "model12 = afai_parallel.tb_floquet_tbc_cuda(period, 1, hopping3, ny=12, nx=12, device='cuda:0')\n",
    "model20 = afai_parallel.tb_floquet_tbc_cuda(period, 1, hopping3, ny=20, nx=20, device='cuda:0')\n",
    "model30 = afai_parallel.tb_floquet_tbc_cuda(period, 1, hopping3, ny=30, nx=30, device='cuda:0')\n",
    "model40 = afai_parallel.tb_floquet_tbc_cuda(period, 1, hopping3, ny=40, nx=40, device='cuda:0')\n",
    "model50 = afai_parallel.tb_floquet_tbc_cuda(period, 1, hopping3, ny=50, nx=50, device='cuda:0')"
   ]
  },
  {
   "cell_type": "code",
   "execution_count": null,
   "metadata": {},
   "outputs": [],
   "source": [
    "vdT0 = torch.linspace(0.4, 14, 30)\n",
    "vdT1 = torch.linspace(14, 40, 30)\n",
    "vdT2 = torch.linspace(40, 70, 25)\n",
    "vdT3 = torch.linspace(70, 100, 20)\n",
    "vdT4 = torch.linspace(100, 130, 20)\n",
    "vdT5 = torch.linspace(130, 160, 20)\n",
    "vdT6 = torch.linspace(160, 220, 20)\n",
    "vdT7 = torch.linspace(220, 250, 20)\n",
    "vdT8 = torch.linspace(250, 300, 20)\n",
    "vdT9 = torch.linspace(300, 500, 30)"
   ]
  },
  {
   "cell_type": "code",
   "execution_count": null,
   "metadata": {},
   "outputs": [],
   "source": [
    "plot0_30 = model30.avg_level_spacing_bulk(100, vdT0, fully_disorder=False, plot=True)\n",
    "plot1_30 = model30.avg_level_spacing_bulk(100, vdT1, fully_disorder=False, plot=True)\n",
    "plot2_30 = model30.avg_level_spacing_bulk(100, vdT2, fully_disorder=False, plot=True)\n",
    "plot3_30 = model30.avg_level_spacing_bulk(100, vdT3, fully_disorder=False, plot=True)\n",
    "plot4_30 = model30.avg_level_spacing_bulk(100, vdT4, fully_disorder=False, plot=True)\n",
    "plot5_30 = model30.avg_level_spacing_bulk(100, vdT5, fully_disorder=False, plot=True)\n",
    "plot6_30 = model30.avg_level_spacing_bulk(100, vdT6, fully_disorder=False, plot=True)\n",
    "plot7_30 = model30.avg_level_spacing_bulk(100, vdT7, fully_disorder=False, plot=True)\n",
    "plot8_30 = model30.avg_level_spacing_bulk(100, vdT8, fully_disorder=False, plot=True)\n",
    "plot9_30 = model30.avg_level_spacing_bulk(100, vdT9, fully_disorder=False, plot=True)"
   ]
  },
  {
   "cell_type": "code",
   "execution_count": null,
   "metadata": {},
   "outputs": [],
   "source": [
    "vdT0_np = vdT0.cpu().numpy()\n",
    "LSR0_np = plot0_30.cpu().numpy()\n",
    "vdT1_np = vdT1.cpu().numpy()\n",
    "LSR1_np = plot1_30.cpu().numpy()\n",
    "vdT2_np = vdT2.cpu().numpy()\n",
    "LSR2_np = plot2_30.cpu().numpy()\n",
    "vdT3_np = vdT3.cpu().numpy()\n",
    "LSR3_np = plot3_30.cpu().numpy()\n",
    "vdT4_np = vdT4.cpu().numpy()\n",
    "LSR4_np = plot4_30.cpu().numpy()\n",
    "vdT5_np = vdT5.cpu().numpy()\n",
    "LSR5_np = plot5_30.cpu().numpy()\n",
    "vdT6_np = vdT6.cpu().numpy()\n",
    "LSR6_np = plot6_30.cpu().numpy()\n",
    "vdT7_np = vdT7.cpu().numpy()\n",
    "LSR7_np = plot7_30.cpu().numpy()\n",
    "vdT8_np = vdT8.cpu().numpy()\n",
    "LSR8_np = plot8_30.cpu().numpy()\n",
    "vdT9_np = vdT9.cpu().numpy()\n",
    "LSR9_np = plot9_30.cpu().numpy()"
   ]
  },
  {
   "cell_type": "code",
   "execution_count": null,
   "metadata": {},
   "outputs": [],
   "source": [
    "# Combine x and y into a 2D array\n",
    "data0 = np.column_stack((vdT0_np, LSR0_np))\n",
    "data1 = np.column_stack((vdT1_np, LSR1_np))\n",
    "data2 = np.column_stack((vdT2_np, LSR2_np))\n",
    "data3 = np.column_stack((vdT3_np, LSR3_np))\n",
    "data4 = np.column_stack((vdT4_np, LSR4_np))\n",
    "data5 = np.column_stack((vdT5_np, LSR5_np))\n",
    "data6 = np.column_stack((vdT6_np, LSR6_np))\n",
    "data7 = np.column_stack((vdT7_np, LSR7_np))\n",
    "data8 = np.column_stack((vdT8_np, LSR8_np))\n",
    "data9 = np.column_stack((vdT9_np, LSR9_np))\n",
    "\n",
    "# Save to txt file\n",
    "np.savetxt('quasi_LSR_30.txt', data0, delimiter=',', header='vdT,LSR\\n# phi1=0, phi2=0', comments='')\n",
    "\n",
    "with open('quasi_LSR_30.txt', 'a') as f:\n",
    "    np.savetxt(f, data1, delimiter=',')\n",
    "    np.savetxt(f, data2, delimiter=',')\n",
    "    np.savetxt(f, data3, delimiter=',')\n",
    "    np.savetxt(f, data4, delimiter=',')\n",
    "    np.savetxt(f, data5, delimiter=',')\n",
    "    np.savetxt(f, data6, delimiter=',')\n",
    "    np.savetxt(f, data7, delimiter=',')\n",
    "    np.savetxt(f, data8, delimiter=',')\n",
    "    np.savetxt(f, data9, delimiter=',')"
   ]
  },
  {
   "cell_type": "code",
   "execution_count": null,
   "metadata": {},
   "outputs": [],
   "source": [
    "plot0_40 = model40.avg_level_spacing_bulk(100, vdT0, fully_disorder=False, plot=True)\n",
    "plot1_40 = model40.avg_level_spacing_bulk(100, vdT1, fully_disorder=False, plot=True)\n",
    "plot2_40 = model40.avg_level_spacing_bulk(100, vdT2, fully_disorder=False, plot=True)\n",
    "plot3_40 = model40.avg_level_spacing_bulk(100, vdT3, fully_disorder=False, plot=True)\n",
    "plot4_40 = model40.avg_level_spacing_bulk(100, vdT4, fully_disorder=False, plot=True)\n",
    "plot5_40 = model40.avg_level_spacing_bulk(100, vdT5, fully_disorder=False, plot=True)\n",
    "plot6_40 = model40.avg_level_spacing_bulk(100, vdT6, fully_disorder=False, plot=True)\n",
    "plot7_40 = model40.avg_level_spacing_bulk(100, vdT7, fully_disorder=False, plot=True)\n",
    "plot8_40 = model40.avg_level_spacing_bulk(100, vdT8, fully_disorder=False, plot=True)\n",
    "plot9_40 = model40.avg_level_spacing_bulk(100, vdT9, fully_disorder=False, plot=True)"
   ]
  },
  {
   "cell_type": "code",
   "execution_count": null,
   "metadata": {},
   "outputs": [],
   "source": [
    "LSR0_np_40 = plot0_40.cpu().numpy()\n",
    "LSR1_np_40 = plot1_40.cpu().numpy()\n",
    "LSR2_np_40 = plot2_40.cpu().numpy()\n",
    "LSR3_np_40 = plot3_40.cpu().numpy()\n",
    "LSR4_np_40 = plot4_40.cpu().numpy()\n",
    "LSR5_np_40 = plot5_40.cpu().numpy()\n",
    "LSR6_np_40 = plot6_40.cpu().numpy()\n",
    "LSR7_np_40 = plot7_40.cpu().numpy()\n",
    "LSR8_np_40 = plot8_40.cpu().numpy()\n",
    "LSR9_np_40 = plot9_40.cpu().numpy()\n",
    "LSR10_np_40 = plot10_40.cpu().numpy()\n",
    "LSR11_np_40 = plot11_40.cpu().numpy()"
   ]
  },
  {
   "cell_type": "code",
   "execution_count": null,
   "metadata": {},
   "outputs": [],
   "source": [
    "# Combine x and y into a 2D array\n",
    "data0_40 = np.column_stack((vdT0_np, LSR0_np_40))\n",
    "data1_40 = np.column_stack((vdT1_np, LSR1_np_40))\n",
    "data2_40 = np.column_stack((vdT2_np, LSR2_np_40))\n",
    "data3_40 = np.column_stack((vdT3_np, LSR3_np_40))\n",
    "data4_40 = np.column_stack((vdT4_np, LSR4_np_40))\n",
    "data5_40 = np.column_stack((vdT5_np, LSR5_np_40))\n",
    "data6_40 = np.column_stack((vdT6_np, LSR6_np_40))\n",
    "data7_40 = np.column_stack((vdT7_np, LSR7_np_40))\n",
    "data8_40 = np.column_stack((vdT8_np, LSR8_np_40))\n",
    "data9_40 = np.column_stack((vdT9_np, LSR9_np_40))"
   ]
  },
  {
   "cell_type": "code",
   "execution_count": null,
   "metadata": {},
   "outputs": [],
   "source": [
    "plot0_50 = model50.avg_level_spacing_bulk(100, vdT6, fully_disorder=False, plot=True)\n",
    "plot1_50 = model50.avg_level_spacing_bulk(100, vdT7, fully_disorder=False, plot=True)\n",
    "plot2_50 = model50.avg_level_spacing_bulk(100, vdT8, fully_disorder=False, plot=True)\n",
    "plot3_50 = model50.avg_level_spacing_bulk(100, vdT9, fully_disorder=False, plot=True)"
   ]
  },
  {
   "cell_type": "code",
   "execution_count": null,
   "metadata": {},
   "outputs": [],
   "source": []
  },
  {
   "cell_type": "code",
   "execution_count": null,
   "metadata": {},
   "outputs": [],
   "source": [
    "plot0_50phi = model50.avg_level_spacing_bulk(100, vdT6, phi1_ex=2, phi2_ex=torch.pi*2/3, fully_disorder=False, plot=True)\n",
    "plot1_50phi = model50.avg_level_spacing_bulk(100, vdT7, phi1_ex=2, phi2_ex=torch.pi*2/3, fully_disorder=False, plot=True)\n",
    "plot2_50phi = model50.avg_level_spacing_bulk(100, vdT8, phi1_ex=2, phi2_ex=torch.pi*2/3, fully_disorder=False, plot=True)\n",
    "plot3_50phi = model50.avg_level_spacing_bulk(100, vdT9, phi1_ex=2, phi2_ex=torch.pi*2/3, fully_disorder=False, plot=True)\n",
    "plot4_50phi = model50.avg_level_spacing_bulk(100, vdT9, phi1_ex=2, phi2_ex=torch.pi*2/3, fully_disorder=False, plot=True)\n",
    "plot5_50phi = model50.avg_level_spacing_bulk(100, vdT10, phi1_ex=2, phi2_ex=torch.pi*2/3, fully_disorder=False, plot=True)\n",
    "plot6_50phi = model50.avg_level_spacing_bulk(100, vdT11, phi1_ex=2, phi2_ex=torch.pi*2/3, fully_disorder=False, plot=True)"
   ]
  },
  {
   "cell_type": "code",
   "execution_count": null,
   "metadata": {},
   "outputs": [],
   "source": []
  },
  {
   "cell_type": "code",
   "execution_count": null,
   "metadata": {},
   "outputs": [],
   "source": []
  },
  {
   "cell_type": "code",
   "execution_count": null,
   "metadata": {},
   "outputs": [],
   "source": []
  },
  {
   "cell_type": "code",
   "execution_count": null,
   "metadata": {},
   "outputs": [],
   "source": []
  }
 ],
 "metadata": {
  "kernelspec": {
   "display_name": "Python 3",
   "language": "python",
   "name": "python3"
  },
  "language_info": {
   "codemirror_mode": {
    "name": "ipython",
    "version": 3
   },
   "file_extension": ".py",
   "mimetype": "text/x-python",
   "name": "python",
   "nbconvert_exporter": "python",
   "pygments_lexer": "ipython3",
   "version": "3.8.10"
  }
 },
 "nbformat": 4,
 "nbformat_minor": 2
}
